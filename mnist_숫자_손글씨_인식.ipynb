{
  "nbformat": 4,
  "nbformat_minor": 0,
  "metadata": {
    "colab": {
      "name": "mnist 숫자 손글씨 인식",
      "provenance": [],
      "authorship_tag": "ABX9TyMXYlbT0P8AMKt+tvWxSozs",
      "include_colab_link": true
    },
    "kernelspec": {
      "name": "python3",
      "display_name": "Python 3"
    }
  },
  "cells": [
    {
      "cell_type": "markdown",
      "metadata": {
        "id": "view-in-github",
        "colab_type": "text"
      },
      "source": [
        "<a href=\"https://colab.research.google.com/github/Yoonjin-Lee/mnist_Dataset_Flatten/blob/main/mnist_%EC%88%AB%EC%9E%90_%EC%86%90%EA%B8%80%EC%94%A8_%EC%9D%B8%EC%8B%9D.ipynb\" target=\"_parent\"><img src=\"https://colab.research.google.com/assets/colab-badge.svg\" alt=\"Open In Colab\"/></a>"
      ]
    },
    {
      "cell_type": "code",
      "metadata": {
        "id": "ywW1P4MhuIJC"
      },
      "source": [
        "import tensorflow as tf\r\n",
        "import pandas as pd"
      ],
      "execution_count": 1,
      "outputs": []
    },
    {
      "cell_type": "markdown",
      "metadata": {
        "id": "DX0qP-L7wN9m"
      },
      "source": [
        "실행 결과 : Faltten함수를 쓰는 것보다 reshape을 하는 것이 학습할 때 더 빠르다."
      ]
    },
    {
      "cell_type": "code",
      "metadata": {
        "colab": {
          "base_uri": "https://localhost:8080/"
        },
        "id": "toRjZzHwuQY6",
        "outputId": "bac3c7c9-1b00-4cf8-df2d-278bb56a14f6"
      },
      "source": [
        "(독립, 종속), _ = tf.keras.datasets.mnist.load_data()\r\n",
        "#독립 = 독립.reshape(60000, 784)\r\n",
        "종속 = pd.get_dummies(종속)\r\n",
        "print(독립.shape, 종속.shape)"
      ],
      "execution_count": 3,
      "outputs": [
        {
          "output_type": "stream",
          "text": [
            "(60000, 28, 28) (60000, 10)\n"
          ],
          "name": "stdout"
        }
      ]
    },
    {
      "cell_type": "code",
      "metadata": {
        "id": "0bXgGaNzuk6x"
      },
      "source": [
        "X = tf.keras.layers.Input(shape = [28, 28])\r\n",
        "H = tf.keras.layers.Flatten()(X)\r\n",
        "H = tf.keras.layers.Dense(84, activation='swish')(H)\r\n",
        "Y = tf.keras.layers.Dense(10, activation='softmax')(H)\r\n",
        "model = tf.keras.models.Model(X, Y)\r\n",
        "model.compile(loss = 'categorical_crossentropy', metrics='accuracy')"
      ],
      "execution_count": 11,
      "outputs": []
    },
    {
      "cell_type": "code",
      "metadata": {
        "colab": {
          "base_uri": "https://localhost:8080/"
        },
        "id": "2LsN3QF8vYnT",
        "outputId": "21f496a5-e365-443a-e461-3f50792a86e0"
      },
      "source": [
        "model.fit(독립, 종속, epochs=10)"
      ],
      "execution_count": 12,
      "outputs": [
        {
          "output_type": "stream",
          "text": [
            "Epoch 1/10\n",
            "1875/1875 [==============================] - 3s 2ms/step - loss: 7.3863 - accuracy: 0.7985\n",
            "Epoch 2/10\n",
            "1875/1875 [==============================] - 3s 2ms/step - loss: 0.5371 - accuracy: 0.9128\n",
            "Epoch 3/10\n",
            "1875/1875 [==============================] - 3s 2ms/step - loss: 0.4498 - accuracy: 0.9290\n",
            "Epoch 4/10\n",
            "1875/1875 [==============================] - 3s 1ms/step - loss: 0.4287 - accuracy: 0.9383\n",
            "Epoch 5/10\n",
            "1875/1875 [==============================] - 3s 1ms/step - loss: 0.3933 - accuracy: 0.9441\n",
            "Epoch 6/10\n",
            "1875/1875 [==============================] - 3s 1ms/step - loss: 0.3748 - accuracy: 0.9447\n",
            "Epoch 7/10\n",
            "1875/1875 [==============================] - 3s 2ms/step - loss: 0.3566 - accuracy: 0.9478\n",
            "Epoch 8/10\n",
            "1875/1875 [==============================] - 3s 2ms/step - loss: 0.3545 - accuracy: 0.9485\n",
            "Epoch 9/10\n",
            "1875/1875 [==============================] - 3s 2ms/step - loss: 0.3443 - accuracy: 0.9493\n",
            "Epoch 10/10\n",
            "1875/1875 [==============================] - 3s 2ms/step - loss: 0.3141 - accuracy: 0.9517\n"
          ],
          "name": "stdout"
        },
        {
          "output_type": "execute_result",
          "data": {
            "text/plain": [
              "<tensorflow.python.keras.callbacks.History at 0x7f6e17e565f8>"
            ]
          },
          "metadata": {
            "tags": []
          },
          "execution_count": 12
        }
      ]
    },
    {
      "cell_type": "code",
      "metadata": {
        "colab": {
          "base_uri": "https://localhost:8080/"
        },
        "id": "quP0m9qWvhju",
        "outputId": "344d1d42-69b8-4400-f4a2-30d330c14a60"
      },
      "source": [
        "pred = model.predict(독립[0:5])\r\n",
        "print(pd.DataFrame(pred).round(2))\r\n",
        "print(종속[0:5])"
      ],
      "execution_count": 13,
      "outputs": [
        {
          "output_type": "stream",
          "text": [
            "     0    1    2    3    4    5    6    7    8    9\n",
            "0  0.0  0.0  0.0  0.0  0.0  1.0  0.0  0.0  0.0  0.0\n",
            "1  1.0  0.0  0.0  0.0  0.0  0.0  0.0  0.0  0.0  0.0\n",
            "2  0.0  0.0  0.0  0.0  1.0  0.0  0.0  0.0  0.0  0.0\n",
            "3  0.0  1.0  0.0  0.0  0.0  0.0  0.0  0.0  0.0  0.0\n",
            "4  0.0  0.0  0.0  0.0  0.0  0.0  0.0  0.0  0.0  1.0\n",
            "   0  1  2  3  4  5  6  7  8  9\n",
            "0  0  0  0  0  0  1  0  0  0  0\n",
            "1  1  0  0  0  0  0  0  0  0  0\n",
            "2  0  0  0  0  1  0  0  0  0  0\n",
            "3  0  1  0  0  0  0  0  0  0  0\n",
            "4  0  0  0  0  0  0  0  0  0  1\n"
          ],
          "name": "stdout"
        }
      ]
    }
  ]
}